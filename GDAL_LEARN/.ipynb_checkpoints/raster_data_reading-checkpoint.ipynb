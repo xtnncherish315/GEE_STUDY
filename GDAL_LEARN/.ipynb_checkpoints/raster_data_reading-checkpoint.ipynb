{
 "cells": [
  {
   "cell_type": "code",
   "execution_count": 1,
   "metadata": {},
   "outputs": [],
   "source": [
    "import os, glob\n",
    "from osgeo import gdal, ogr\n",
    "import numpy as np\n",
    "import pandas as pd"
   ]
  },
  {
   "cell_type": "code",
   "execution_count": 11,
   "metadata": {},
   "outputs": [
    {
     "data": {
      "text/plain": [
       "['AddBand',\n",
       " 'AdviseRead',\n",
       " 'BeginAsyncReader',\n",
       " 'BuildOverviews',\n",
       " 'CommitTransaction',\n",
       " 'CopyLayer',\n",
       " 'CreateLayer',\n",
       " 'CreateMaskBand',\n",
       " 'DeleteLayer',\n",
       " 'EndAsyncReader',\n",
       " 'ExecuteSQL',\n",
       " 'FlushCache',\n",
       " 'GetDescription',\n",
       " 'GetDriver',\n",
       " 'GetFileList',\n",
       " 'GetGCPCount',\n",
       " 'GetGCPProjection',\n",
       " 'GetGCPSpatialRef',\n",
       " 'GetGCPs',\n",
       " 'GetGeoTransform',\n",
       " 'GetLayer',\n",
       " 'GetLayerByIndex',\n",
       " 'GetLayerByName',\n",
       " 'GetLayerCount',\n",
       " 'GetMetadata',\n",
       " 'GetMetadataDomainList',\n",
       " 'GetMetadataItem',\n",
       " 'GetMetadata_Dict',\n",
       " 'GetMetadata_List',\n",
       " 'GetNextFeature',\n",
       " 'GetProjection',\n",
       " 'GetProjectionRef',\n",
       " 'GetRasterBand',\n",
       " 'GetRootGroup',\n",
       " 'GetSpatialRef',\n",
       " 'GetStyleTable',\n",
       " 'GetSubDatasets',\n",
       " 'GetTiledVirtualMem',\n",
       " 'GetTiledVirtualMemArray',\n",
       " 'GetVirtualMem',\n",
       " 'GetVirtualMemArray',\n",
       " 'RasterCount',\n",
       " 'RasterXSize',\n",
       " 'RasterYSize',\n",
       " 'ReadAsArray',\n",
       " 'ReadRaster',\n",
       " 'ReadRaster1',\n",
       " 'ReleaseResultSet',\n",
       " 'ResetReading',\n",
       " 'RollbackTransaction',\n",
       " 'SetDescription',\n",
       " 'SetGCPs',\n",
       " 'SetGeoTransform',\n",
       " 'SetMetadata',\n",
       " 'SetMetadataItem',\n",
       " 'SetProjection',\n",
       " 'SetSpatialRef',\n",
       " 'SetStyleTable',\n",
       " 'StartTransaction',\n",
       " 'TestCapability',\n",
       " 'WriteRaster',\n",
       " '_SetGCPs',\n",
       " '_SetGCPs2',\n",
       " '__class__',\n",
       " '__del__',\n",
       " '__delattr__',\n",
       " '__dict__',\n",
       " '__dir__',\n",
       " '__doc__',\n",
       " '__eq__',\n",
       " '__format__',\n",
       " '__ge__',\n",
       " '__getattr__',\n",
       " '__getattribute__',\n",
       " '__gt__',\n",
       " '__hash__',\n",
       " '__init__',\n",
       " '__init_subclass__',\n",
       " '__le__',\n",
       " '__lt__',\n",
       " '__module__',\n",
       " '__ne__',\n",
       " '__new__',\n",
       " '__reduce__',\n",
       " '__reduce_ex__',\n",
       " '__repr__',\n",
       " '__setattr__',\n",
       " '__sizeof__',\n",
       " '__str__',\n",
       " '__subclasshook__',\n",
       " '__swig_destroy__',\n",
       " '__swig_getmethods__',\n",
       " '__swig_setmethods__',\n",
       " '__weakref__',\n",
       " '_s',\n",
       " 'this']"
      ]
     },
     "execution_count": 11,
     "metadata": {},
     "output_type": "execute_result"
    }
   ],
   "source": [
    "# 打开单个波段数据 DEM数据\n",
    "dem_file = 'F:\\python_code\\gdal_gee\\GDAL_LEARN\\dem.tif'\n",
    "\n",
    "# file = 'F:\\python_code\\gdal_gee\\GDAL_LEARN\\LC81270372014355LGN00_clip'\n",
    "ds = gdal.Open(dem_file)\n",
    "dir(ds)"
   ]
  },
  {
   "cell_type": "code",
   "execution_count": 8,
   "metadata": {},
   "outputs": [
    {
     "name": "stdout",
     "output_type": "stream",
     "text": [
      "{'Band_1': 'Resize (Coastal aerosol:LC81270372014355LGN00_MTL.txt) (0.443000 Micrometers)', 'Band_2': 'Resize (Blue:LC81270372014355LGN00_MTL.txt) (0.482600 Micrometers)', 'Band_3': 'Resize (Green:LC81270372014355LGN00_MTL.txt) (0.561300 Micrometers)', 'Band_4': 'Resize (Red:LC81270372014355LGN00_MTL.txt) (0.654600 Micrometers)', 'Band_5': 'Resize (Near Infrared (NIR):LC81270372014355LGN00_MTL.txt) (0.864600 Micrometers)', 'Band_6': 'Resize (SWIR 1:LC81270372014355LGN00_MTL.txt) (1.609000 Micrometers)', 'Band_7': 'Resize (SWIR 2:LC81270372014355LGN00_MTL.txt) (2.201000 Micrometers)', 'wavelength_units': 'Micrometers'}\n",
      "PROJCS[\"WGS 84 / UTM zone 49N\",GEOGCS[\"WGS 84\",DATUM[\"WGS_1984\",SPHEROID[\"WGS 84\",6378137,298.257223563,AUTHORITY[\"EPSG\",\"7030\"]],AUTHORITY[\"EPSG\",\"6326\"]],PRIMEM[\"Greenwich\",0],UNIT[\"Degree\",0.0174532925199433]],PROJECTION[\"Transverse_Mercator\"],PARAMETER[\"latitude_of_origin\",0],PARAMETER[\"central_meridian\",111],PARAMETER[\"scale_factor\",0.9996],PARAMETER[\"false_easting\",500000],PARAMETER[\"false_northing\",0],UNIT[\"Meter\",1],AXIS[\"Easting\",EAST],AXIS[\"Northing\",NORTH]]\n",
      "(268425.0, 30.0, -0.0, 3737265.0, -0.0, -30.0)\n"
     ]
    }
   ],
   "source": [
    "print(ds.GetMetadata()) #数据源信息\n",
    "print(ds.GetProjection()) #数据投影信息\n",
    "print(ds.GetGeoTransform()) #仿射信息"
   ]
  },
  {
   "cell_type": "code",
   "execution_count": null,
   "metadata": {},
   "outputs": [],
   "source": [
    "\n",
    "+"
   ]
  }
 ],
 "metadata": {
  "kernelspec": {
   "display_name": "geo",
   "language": "python",
   "name": "geo"
  },
  "language_info": {
   "codemirror_mode": {
    "name": "ipython",
    "version": 3
   },
   "file_extension": ".py",
   "mimetype": "text/x-python",
   "name": "python",
   "nbconvert_exporter": "python",
   "pygments_lexer": "ipython3",
   "version": "3.7.9"
  }
 },
 "nbformat": 4,
 "nbformat_minor": 2
}
