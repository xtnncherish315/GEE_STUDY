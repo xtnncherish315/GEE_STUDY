{
 "metadata": {
  "language_info": {
   "codemirror_mode": {
    "name": "ipython",
    "version": 3
   },
   "file_extension": ".py",
   "mimetype": "text/x-python",
   "name": "python",
   "nbconvert_exporter": "python",
   "pygments_lexer": "ipython3",
   "version": "3.7.9-final"
  },
  "orig_nbformat": 2,
  "kernelspec": {
   "name": "geo",
   "display_name": "geo",
   "language": "python"
  }
 },
 "nbformat": 4,
 "nbformat_minor": 2,
 "cells": [
  {
   "cell_type": "code",
   "execution_count": 3,
   "metadata": {},
   "outputs": [],
   "source": [
    "import geemap"
   ]
  },
  {
   "cell_type": "code",
   "execution_count": 4,
   "metadata": {},
   "outputs": [],
   "source": [
    "import geopandas as gpd\n",
    "import pandas as pd \n",
    "import numpy as np "
   ]
  },
  {
   "cell_type": "code",
   "execution_count": 5,
   "metadata": {},
   "outputs": [],
   "source": [
    "geemap.set_proxy(port = 1081)"
   ]
  },
  {
   "cell_type": "code",
   "execution_count": null,
   "metadata": {},
   "outputs": [],
   "source": [
    "# geemap.update_package()"
   ]
  },
  {
   "cell_type": "code",
   "execution_count": 6,
   "metadata": {},
   "outputs": [
    {
     "output_type": "display_data",
     "data": {
      "text/plain": "<IPython.core.display.HTML object>",
      "text/html": "<p>To authorize access needed by Earth Engine, open the following\n        URL in a web browser and follow the instructions:</p>\n        <p><a href=https://accounts.google.com/o/oauth2/auth?client_id=517222506229-vsmmajv00ul0bs7p89v5m89qs8eb9359.apps.googleusercontent.com&scope=https%3A%2F%2Fwww.googleapis.com%2Fauth%2Fearthengine+https%3A%2F%2Fwww.googleapis.com%2Fauth%2Fdevstorage.full_control&redirect_uri=urn%3Aietf%3Awg%3Aoauth%3A2.0%3Aoob&response_type=code&code_challenge=eTK6KgJtU5uNqNMm_yrSXoVsPSo0R5kUesQ5hF3SKqs&code_challenge_method=S256>https://accounts.google.com/o/oauth2/auth?client_id=517222506229-vsmmajv00ul0bs7p89v5m89qs8eb9359.apps.googleusercontent.com&scope=https%3A%2F%2Fwww.googleapis.com%2Fauth%2Fearthengine+https%3A%2F%2Fwww.googleapis.com%2Fauth%2Fdevstorage.full_control&redirect_uri=urn%3Aietf%3Awg%3Aoauth%3A2.0%3Aoob&response_type=code&code_challenge=eTK6KgJtU5uNqNMm_yrSXoVsPSo0R5kUesQ5hF3SKqs&code_challenge_method=S256</a></p>\n        <p>The authorization workflow will generate a code, which you\n        should paste in the box below</p>\n        "
     },
     "metadata": {}
    },
    {
     "output_type": "stream",
     "name": "stdout",
     "text": [
      "\nSuccessfully saved authorization token.\n"
     ]
    }
   ],
   "source": [
    "import ee\n",
    "ee.Authenticate()"
   ]
  },
  {
   "cell_type": "code",
   "execution_count": 7,
   "metadata": {},
   "outputs": [
    {
     "output_type": "display_data",
     "data": {
      "text/plain": "Map(center=[40, -100], controls=(WidgetControl(options=['position'], widget=HBox(children=(ToggleButton(value=…",
      "application/vnd.jupyter.widget-view+json": {
       "version_major": 2,
       "version_minor": 0,
       "model_id": "00b9894d1b48428eb91ebce701a3ef9d"
      }
     },
     "metadata": {}
    }
   ],
   "source": [
    "Map = geemap.Map()\n",
    "Map"
   ]
  },
  {
   "cell_type": "code",
   "execution_count": 8,
   "metadata": {},
   "outputs": [],
   "source": [
    "points = ee.FeatureCollection('users/xtnncherish/nj_points')\n",
    "Map.addLayer(points, {}, \"points\", False)"
   ]
  },
  {
   "cell_type": "code",
   "execution_count": 24,
   "metadata": {},
   "outputs": [],
   "source": [
    "lulc = ee.ImageCollection(\"MODIS/006/MCD12Q1\").filterDate('2018-01-01','2019-01-01').select('LC_Type1').mosaic()\n",
    "dem = ee.Image(\"NASA/NASADEM_HGT/001\").select('elevation')\n",
    "ndvi = ee.ImageCollection(\"MODIS/006/MOD13Q1\").filterDate('2019-06-01','2019-11-01').select('NDVI').median()\n",
    "lst = ee.ImageCollection(\"JAXA/GCOM-C/L3/LAND/LST/V1\") .filterDate('2019-06-01','2019-11-01').select('LST_AVE').median()"
   ]
  },
  {
   "cell_type": "code",
   "execution_count": 25,
   "metadata": {},
   "outputs": [],
   "source": [
    "Map.addLayer(lst,{},'LST')"
   ]
  },
  {
   "cell_type": "code",
   "execution_count": 26,
   "metadata": {},
   "outputs": [],
   "source": [
    "slope = ee.Terrain.slope(dem)"
   ]
  },
  {
   "cell_type": "code",
   "execution_count": 27,
   "metadata": {},
   "outputs": [
    {
     "output_type": "stream",
     "name": "stdout",
     "text": [
      "Generating URL ...\n",
      "Downloading data from https://earthengine.googleapis.com/v1alpha/projects/earthengine-legacy/tables/1dcdeb21744eaca32bf157f922611f9e-3ab31556faf11a31e06456c6d69e79fa:getFeatures\n",
      "Please wait ...\n",
      "Data downloaded to C:\\Users\\Admin\\Downloads\\points_lulc.shp\n",
      "Generating URL ...\n",
      "Downloading data from https://earthengine.googleapis.com/v1alpha/projects/earthengine-legacy/tables/c43c817cc25cfdb9903d81478b1c5919-8bc067d1810b9df79d848ac8db75b489:getFeatures\n",
      "Please wait ...\n",
      "Data downloaded to C:\\Users\\Admin\\Downloads\\points_slope.shp\n",
      "Generating URL ...\n",
      "Downloading data from https://earthengine.googleapis.com/v1alpha/projects/earthengine-legacy/tables/e43c27f29ac89b9940a50dcbf2cf2d8c-cabacb91a6fa378b13583aa7dbf48091:getFeatures\n",
      "Please wait ...\n",
      "Data downloaded to C:\\Users\\Admin\\Downloads\\points_ndvi.shp\n",
      "Generating URL ...\n",
      "Downloading data from https://earthengine.googleapis.com/v1alpha/projects/earthengine-legacy/tables/23d1f5d2569514f3f54154038cb8d2fb-1da0f9884e2da9cc7b0a6cd0ec930dbb:getFeatures\n",
      "Please wait ...\n",
      "Data downloaded to C:\\Users\\Admin\\Downloads\\points_lst.shp\n"
     ]
    }
   ],
   "source": [
    "data_list = [lulc, slope, ndvi, lst]\n",
    "data_name = ['lulc', 'slope', 'ndvi', 'lst']\n",
    "data_scale = [500, 30, 100, 500]\n",
    "for i in range(4):\n",
    "    work_dir = os.path.expanduser('~/Downloads')\n",
    "    out_shp = os.path.join(work_dir,'points_{}.shp'.format(data_name[i]))\n",
    "    geemap.extract_values_to_points(in_fc = points, image = data_list[i], scale =data_scale[i], out_fc = out_shp)\n",
    "\n",
    "# work_dir = os.path.expanduser('~/Downloads')\n",
    "# out_shp = os.path.join(work_dir, 'points_lulc.shp')\n",
    "# geemap.extract_values_to_points(in_fc=points, image=lulc, out_fc = out_shp)"
   ]
  },
  {
   "cell_type": "code",
   "execution_count": 11,
   "metadata": {},
   "outputs": [
    {
     "output_type": "stream",
     "name": "stdout",
     "text": [
      "Generating URL ...\n",
      "Downloading data from https://earthengine.googleapis.com/v1alpha/projects/earthengine-legacy/tables/e43c27f29ac89b9940a50dcbf2cf2d8c-04c8f857d35062f3e3872ef242db1638:getFeatures\n",
      "Please wait ...\n",
      "Data downloaded to C:\\Users\\Admin\\Downloads\\points_ndvi.shp\n"
     ]
    }
   ],
   "source": [
    "work_dir = os.path.expanduser('~/Downloads')\n",
    "out_shp = os.path.join(work_dir,'points_ndvi.shp')\n",
    "geemap.extract_values_to_points(in_fc = points, image = ndvi, scale = 100, out_fc = out_shp)"
   ]
  },
  {
   "cell_type": "code",
   "execution_count": 28,
   "metadata": {},
   "outputs": [],
   "source": [
    "points_lulc = gpd.read_file(r'C:\\Users\\Admin\\Downloads\\points_lulc.shp')\n",
    "points_slope = gpd.read_file(r'C:\\Users\\Admin\\Downloads\\points_slope.shp')\n",
    "points_ndvi = gpd.read_file(r'C:\\Users\\Admin\\Downloads\\points_ndvi.shp')\n",
    "points_lst = gpd.read_file(r'C:\\Users\\Admin\\Downloads\\points_lst.shp')"
   ]
  },
  {
   "cell_type": "code",
   "execution_count": 33,
   "metadata": {},
   "outputs": [
    {
     "output_type": "stream",
     "name": "stdout",
     "text": [
      "       OBJECTID      COR_Y  LST_AVE      COR_X                   geometry\n6850          1  41.340586  14732.0  79.960606  POINT (79.96129 41.34272)\n13952         2  41.340799  14732.0  79.984496  POINT (79.98375 41.34272)\n14684         3  41.377420  14629.0  80.055649  POINT (80.05561 41.37865)\n392           4  41.377614  14629.0  80.079553  POINT (80.07807 41.37865)\n12501         5  41.377803  14646.0  80.103458  POINT (80.10502 41.37865)\n"
     ]
    }
   ],
   "source": [
    "print(points_lst.head())\n",
    "# print(points_slope.head())\n",
    "# print(points_ndvi.head())"
   ]
  },
  {
   "cell_type": "code",
   "execution_count": 30,
   "metadata": {},
   "outputs": [],
   "source": [
    "points_lulc.sort_values('OBJECTID', inplace = True)\n",
    "points_slope.sort_values('OBJECTID', inplace = True)\n",
    "points_ndvi.sort_values('OBJECTID', inplace = True)"
   ]
  },
  {
   "cell_type": "code",
   "execution_count": 31,
   "metadata": {},
   "outputs": [],
   "source": [
    "points_lst.sort_values('OBJECTID', inplace = True)"
   ]
  },
  {
   "cell_type": "code",
   "execution_count": 37,
   "metadata": {},
   "outputs": [
    {
     "output_type": "execute_result",
     "data": {
      "text/plain": [
       "   OBJECTID      COR_Y      COR_X                   geometry\n",
       "0         1  41.340586  79.960606  POINT (79.96061 41.34059)\n",
       "1         2  41.340799  79.984496  POINT (79.98450 41.34080)\n",
       "2         3  41.377420  80.055649  POINT (80.05565 41.37742)\n",
       "3         4  41.377614  80.079553  POINT (80.07955 41.37761)\n",
       "4         5  41.377803  80.103458  POINT (80.10346 41.37780)"
      ],
      "text/html": "<div>\n<style scoped>\n    .dataframe tbody tr th:only-of-type {\n        vertical-align: middle;\n    }\n\n    .dataframe tbody tr th {\n        vertical-align: top;\n    }\n\n    .dataframe thead th {\n        text-align: right;\n    }\n</style>\n<table border=\"1\" class=\"dataframe\">\n  <thead>\n    <tr style=\"text-align: right;\">\n      <th></th>\n      <th>OBJECTID</th>\n      <th>COR_Y</th>\n      <th>COR_X</th>\n      <th>geometry</th>\n    </tr>\n  </thead>\n  <tbody>\n    <tr>\n      <th>0</th>\n      <td>1</td>\n      <td>41.340586</td>\n      <td>79.960606</td>\n      <td>POINT (79.96061 41.34059)</td>\n    </tr>\n    <tr>\n      <th>1</th>\n      <td>2</td>\n      <td>41.340799</td>\n      <td>79.984496</td>\n      <td>POINT (79.98450 41.34080)</td>\n    </tr>\n    <tr>\n      <th>2</th>\n      <td>3</td>\n      <td>41.377420</td>\n      <td>80.055649</td>\n      <td>POINT (80.05565 41.37742)</td>\n    </tr>\n    <tr>\n      <th>3</th>\n      <td>4</td>\n      <td>41.377614</td>\n      <td>80.079553</td>\n      <td>POINT (80.07955 41.37761)</td>\n    </tr>\n    <tr>\n      <th>4</th>\n      <td>5</td>\n      <td>41.377803</td>\n      <td>80.103458</td>\n      <td>POINT (80.10346 41.37780)</td>\n    </tr>\n  </tbody>\n</table>\n</div>"
     },
     "metadata": {},
     "execution_count": 37
    }
   ],
   "source": [
    "nj_points = gpd.read_file(r'F:\\python_code\\gdal_gee\\GEE_LEARN\\nj_points.shp')\n",
    "nj_points.head()"
   ]
  },
  {
   "cell_type": "code",
   "execution_count": 38,
   "metadata": {},
   "outputs": [],
   "source": [
    "nj_points['LULC'] = points_lulc['LC_Type1'].values\n",
    "nj_points['SLOPE'] = points_slope['slope'].values\n",
    "nj_points['NDVI'] = points_ndvi['NDVI'].values\n",
    "nj_points['LST'] = points_lst['LST_AVE'].values"
   ]
  },
  {
   "cell_type": "code",
   "execution_count": null,
   "metadata": {},
   "outputs": [],
   "source": []
  },
  {
   "cell_type": "code",
   "execution_count": 39,
   "metadata": {},
   "outputs": [
    {
     "output_type": "execute_result",
     "data": {
      "text/plain": [
       "   OBJECTID      COR_Y      COR_X                   geometry  LULC     SLOPE  \\\n",
       "0         1  41.340586  79.960606  POINT (79.96061 41.34059)    10  1.544394   \n",
       "1         2  41.340799  79.984496  POINT (79.98450 41.34080)    15  3.086556   \n",
       "2         3  41.377420  80.055649  POINT (80.05565 41.37742)    10  2.780288   \n",
       "3         4  41.377614  80.079553  POINT (80.07955 41.37761)    10  0.927410   \n",
       "4         5  41.377803  80.103458  POINT (80.10346 41.37780)    10  1.544959   \n",
       "\n",
       "     NDVI      LST  \n",
       "0  3178.0  14732.0  \n",
       "1   699.0  14732.0  \n",
       "2  2347.0  14629.0  \n",
       "3  5296.0  14629.0  \n",
       "4  2647.0  14646.0  "
      ],
      "text/html": "<div>\n<style scoped>\n    .dataframe tbody tr th:only-of-type {\n        vertical-align: middle;\n    }\n\n    .dataframe tbody tr th {\n        vertical-align: top;\n    }\n\n    .dataframe thead th {\n        text-align: right;\n    }\n</style>\n<table border=\"1\" class=\"dataframe\">\n  <thead>\n    <tr style=\"text-align: right;\">\n      <th></th>\n      <th>OBJECTID</th>\n      <th>COR_Y</th>\n      <th>COR_X</th>\n      <th>geometry</th>\n      <th>LULC</th>\n      <th>SLOPE</th>\n      <th>NDVI</th>\n      <th>LST</th>\n    </tr>\n  </thead>\n  <tbody>\n    <tr>\n      <th>0</th>\n      <td>1</td>\n      <td>41.340586</td>\n      <td>79.960606</td>\n      <td>POINT (79.96061 41.34059)</td>\n      <td>10</td>\n      <td>1.544394</td>\n      <td>3178.0</td>\n      <td>14732.0</td>\n    </tr>\n    <tr>\n      <th>1</th>\n      <td>2</td>\n      <td>41.340799</td>\n      <td>79.984496</td>\n      <td>POINT (79.98450 41.34080)</td>\n      <td>15</td>\n      <td>3.086556</td>\n      <td>699.0</td>\n      <td>14732.0</td>\n    </tr>\n    <tr>\n      <th>2</th>\n      <td>3</td>\n      <td>41.377420</td>\n      <td>80.055649</td>\n      <td>POINT (80.05565 41.37742)</td>\n      <td>10</td>\n      <td>2.780288</td>\n      <td>2347.0</td>\n      <td>14629.0</td>\n    </tr>\n    <tr>\n      <th>3</th>\n      <td>4</td>\n      <td>41.377614</td>\n      <td>80.079553</td>\n      <td>POINT (80.07955 41.37761)</td>\n      <td>10</td>\n      <td>0.927410</td>\n      <td>5296.0</td>\n      <td>14629.0</td>\n    </tr>\n    <tr>\n      <th>4</th>\n      <td>5</td>\n      <td>41.377803</td>\n      <td>80.103458</td>\n      <td>POINT (80.10346 41.37780)</td>\n      <td>10</td>\n      <td>1.544959</td>\n      <td>2647.0</td>\n      <td>14646.0</td>\n    </tr>\n  </tbody>\n</table>\n</div>"
     },
     "metadata": {},
     "execution_count": 39
    }
   ],
   "source": [
    "nj_points.head()"
   ]
  },
  {
   "cell_type": "code",
   "execution_count": 21,
   "metadata": {},
   "outputs": [
    {
     "output_type": "execute_result",
     "data": {
      "text/plain": [
       "<Geographic 2D CRS: EPSG:4610>\n",
       "Name: Xian 1980\n",
       "Axis Info [ellipsoidal]:\n",
       "- Lat[north]: Geodetic latitude (degree)\n",
       "- Lon[east]: Geodetic longitude (degree)\n",
       "Area of Use:\n",
       "- name: China - onshore\n",
       "- bounds: (73.62, 18.11, 134.77, 53.56)\n",
       "Datum: Xian 1980\n",
       "- Ellipsoid: IAG 1975\n",
       "- Prime Meridian: Greenwich"
      ]
     },
     "metadata": {},
     "execution_count": 21
    }
   ],
   "source": [
    "nj_points.crs"
   ]
  },
  {
   "cell_type": "code",
   "execution_count": 22,
   "metadata": {},
   "outputs": [
    {
     "output_type": "execute_result",
     "data": {
      "text/plain": [
       "'f:\\\\python_code\\\\gdal_gee\\\\GEE_LEARN'"
      ]
     },
     "metadata": {},
     "execution_count": 22
    }
   ],
   "source": [
    "import os\n",
    "os.getcwd()"
   ]
  },
  {
   "cell_type": "code",
   "execution_count": 40,
   "metadata": {},
   "outputs": [],
   "source": [
    "\n",
    "nj_points.to_file(driver = 'ESRI Shapefile', filename = 'nj_points_value0.shp')\n",
    "\n",
    "# gdf.to_file(driver = 'ESRI Shapefile', filename = input_path)"
   ]
  },
  {
   "cell_type": "code",
   "execution_count": null,
   "metadata": {},
   "outputs": [],
   "source": []
  }
 ]
}