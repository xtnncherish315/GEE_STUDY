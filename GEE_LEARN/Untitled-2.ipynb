{
 "metadata": {
  "language_info": {
   "codemirror_mode": {
    "name": "ipython",
    "version": 3
   },
   "file_extension": ".py",
   "mimetype": "text/x-python",
   "name": "python",
   "nbconvert_exporter": "python",
   "pygments_lexer": "ipython3",
   "version": "3.7.9-final"
  },
  "orig_nbformat": 2,
  "kernelspec": {
   "name": "geo",
   "display_name": "geo",
   "language": "python"
  }
 },
 "nbformat": 4,
 "nbformat_minor": 2,
 "cells": [
  {
   "source": [
    "本代码主要实现利用GEE下载无云影像数据，根据矢量提取对应位置的value等内容"
   ],
   "cell_type": "markdown",
   "metadata": {}
  },
  {
   "cell_type": "code",
   "execution_count": 1,
   "metadata": {},
   "outputs": [],
   "source": [
    "# Import libraries\n",
    "import os\n",
    "import ee\n",
    "import geemap\n",
    "import ipywidgets as widgets\n",
    "from bqplot import pyplot as plt\n",
    "from ipyleaflet import WidgetControl"
   ]
  },
  {
   "cell_type": "code",
   "execution_count": 2,
   "metadata": {},
   "outputs": [],
   "source": [
    "import geopandas as gpd\n",
    "import pandas as pd \n",
    "import numpy as np "
   ]
  },
  {
   "cell_type": "code",
   "execution_count": 3,
   "metadata": {},
   "outputs": [],
   "source": [
    "geemap.set_proxy(port = 1081)"
   ]
  },
  {
   "cell_type": "code",
   "execution_count": null,
   "metadata": {},
   "outputs": [],
   "source": [
    "# geemap.update_package()"
   ]
  },
  {
   "cell_type": "code",
   "execution_count": 4,
   "metadata": {},
   "outputs": [
    {
     "output_type": "display_data",
     "data": {
      "text/plain": "<IPython.core.display.HTML object>",
      "text/html": "<p>To authorize access needed by Earth Engine, open the following\n        URL in a web browser and follow the instructions:</p>\n        <p><a href=https://accounts.google.com/o/oauth2/auth?client_id=517222506229-vsmmajv00ul0bs7p89v5m89qs8eb9359.apps.googleusercontent.com&scope=https%3A%2F%2Fwww.googleapis.com%2Fauth%2Fearthengine+https%3A%2F%2Fwww.googleapis.com%2Fauth%2Fdevstorage.full_control&redirect_uri=urn%3Aietf%3Awg%3Aoauth%3A2.0%3Aoob&response_type=code&code_challenge=Iy685fzk4NsV4hFA_7MIqSVRbNarS6_WZdpmlIe1MKs&code_challenge_method=S256>https://accounts.google.com/o/oauth2/auth?client_id=517222506229-vsmmajv00ul0bs7p89v5m89qs8eb9359.apps.googleusercontent.com&scope=https%3A%2F%2Fwww.googleapis.com%2Fauth%2Fearthengine+https%3A%2F%2Fwww.googleapis.com%2Fauth%2Fdevstorage.full_control&redirect_uri=urn%3Aietf%3Awg%3Aoauth%3A2.0%3Aoob&response_type=code&code_challenge=Iy685fzk4NsV4hFA_7MIqSVRbNarS6_WZdpmlIe1MKs&code_challenge_method=S256</a></p>\n        <p>The authorization workflow will generate a code, which you\n        should paste in the box below</p>\n        "
     },
     "metadata": {}
    },
    {
     "output_type": "stream",
     "name": "stdout",
     "text": [
      "\nSuccessfully saved authorization token.\n"
     ]
    }
   ],
   "source": [
    "ee.Authenticate()"
   ]
  },
  {
   "cell_type": "code",
   "execution_count": 6,
   "metadata": {},
   "outputs": [
    {
     "output_type": "display_data",
     "data": {
      "text/plain": "Map(center=[40, -100], controls=(WidgetControl(options=['position'], widget=HBox(children=(ToggleButton(value=…",
      "application/vnd.jupyter.widget-view+json": {
       "version_major": 2,
       "version_minor": 0,
       "model_id": "75e8a1277bca4eea90180845ff2c72d0"
      }
     },
     "metadata": {}
    }
   ],
   "source": [
    "Map = geemap.Map()\n",
    "Map"
   ]
  },
  {
   "cell_type": "code",
   "execution_count": 7,
   "metadata": {},
   "outputs": [],
   "source": [
    "style = {'description_width': 'initial'}\n",
    "\n",
    "output_widget = widgets.Output(layout={'border': '1px solid black'})\n",
    "output_control = WidgetControl(widget=output_widget, position='bottomright')\n",
    "Map.add_control(output_control)"
   ]
  },
  {
   "cell_type": "code",
   "execution_count": 15,
   "metadata": {},
   "outputs": [],
   "source": [
    "admin1_widget = widgets.Text(\n",
    "    description='State:',\n",
    "    value='Tennessee',\n",
    "    width=200,\n",
    "    style=style\n",
    ")\n",
    "\n",
    "admin2_widget = widgets.Text(\n",
    "    description='County:',\n",
    "    value='Knox',\n",
    "    width=300,\n",
    "    style=style\n",
    ")\n",
    "aoi_widget = widgets.Checkbox(\n",
    "    value=False,\n",
    "    description='Use user-drawn AOI',\n",
    "    style=style\n",
    ")\n",
    "\n",
    "download_widget = widgets.Checkbox(\n",
    "    value=False,\n",
    "    description='Download chart data',\n",
    "    style=style\n",
    ")\n",
    "def aoi_change(change):\n",
    "    Map.layers = Map.layers[:4]   \n",
    "    Map.user_roi = None\n",
    "    Map.user_rois = None\n",
    "    Map.draw_count = 0\n",
    "    admin1_widget.value = ''\n",
    "    admin2_widget.value = ''\n",
    "    output_widget.clear_output()\n",
    "    \n",
    "aoi_widget.observe(aoi_change, names='value')\n",
    "band_combo = widgets.Dropdown(\n",
    "    description='Band combo:',\n",
    "    options=['Red/Green/Blue', 'NIR/Red/Green',  'SWIR2/SWIR1/NIR', 'NIR/SWIR1/Red','SWIR2/NIR/Red', \n",
    "             'SWIR2/SWIR1/Red', 'SWIR1/NIR/Blue', 'NIR/SWIR1/Blue', 'SWIR2/NIR/Green', 'SWIR1/NIR/Red'],\n",
    "    value='NIR/Red/Green',\n",
    "    style=style\n",
    ")\n",
    "\n",
    "year_widget = widgets.IntSlider(min=1984, max=2020, value=2010, description='Selected year:', width=400, style=style)\n",
    "\n",
    "fmask_widget = widgets.Checkbox(\n",
    "    value=True,\n",
    "    description='Apply fmask(remove cloud, shadow, snow)',\n",
    "    style=style\n",
    ")\n",
    "nd_options = ['Vegetation Index (NDVI)', \n",
    "              'Water Index (NDWI)',\n",
    "              'Modified Water Index (MNDWI)',\n",
    "              'Snow Index (NDSI)',\n",
    "              'Soil Index (NDSI)',\n",
    "              'Burn Ratio (NBR)',\n",
    "              'Customized']\n",
    "nd_indices = widgets.Dropdown(options=nd_options, value='Modified Water Index (MNDWI)', description='Normalized Difference Indes:', style=style)"
   ]
  },
  {
   "cell_type": "code",
   "execution_count": 19,
   "metadata": {},
   "outputs": [],
   "source": [
    "fmask_widget = widgets.Checkbox(\n",
    "    value=True,\n",
    "    description='Apply fmask(remove cloud, shadow, snow)',\n",
    "    style=style\n",
    ")\n",
    "\n",
    "\n",
    "# Normalized Satellite Indices: https://www.usna.edu/Users/oceano/pguth/md_help/html/norm_sat.htm\n",
    "\n",
    "nd_options = ['Vegetation Index (NDVI)', \n",
    "              'Water Index (NDWI)',\n",
    "              'Modified Water Index (MNDWI)',\n",
    "              'Snow Index (NDSI)',\n",
    "              'Soil Index (NDSI)',\n",
    "              'Burn Ratio (NBR)',\n",
    "              'Customized']\n",
    "nd_indices = widgets.Dropdown(options=nd_options, value='Modified Water Index (MNDWI)', description='Normalized Difference Indes:', style=style)\n",
    "\n",
    "first_band = widgets.Dropdown(\n",
    "    description='1st band:',\n",
    "    options=['Blue', 'Green','Red','NIR', 'SWIR1', 'SWIR2'],\n",
    "    value='Green',\n",
    "    style=style\n",
    ")\n",
    "second_band = widgets.Dropdown(\n",
    "    description='2nd band:',\n",
    "    options=['Blue', 'Green','Red','NIR', 'SWIR1', 'SWIR2'],\n",
    "    value='SWIR1',\n",
    "    style=style\n",
    ")\n",
    "\n",
    "nd_threshold = widgets.FloatSlider(\n",
    "    value=0,\n",
    "    min=-1,\n",
    "    max=1,\n",
    "    step=0.01,\n",
    "    description='Threshold:',\n",
    "    orientation='horizontal',\n",
    "    style=style\n",
    ")\n",
    "\n",
    "nd_color = widgets.ColorPicker(\n",
    "    concise=False,\n",
    "    description='Color:',\n",
    "    value='blue',\n",
    "    style=style\n",
    ")\n",
    "def nd_index_change(change):\n",
    "    if nd_indices.value == 'Vegetation Index (NDVI)':\n",
    "        first_band.value = 'NIR'\n",
    "        second_band.value = 'Red'\n",
    "    elif nd_indices.value == 'Water Index (NDWI)':\n",
    "        first_band.value = 'NIR'\n",
    "        second_band.value = 'SWIR1'   \n",
    "    elif nd_indices.value == 'Modified Water Index (MNDWI)':\n",
    "        first_band.value = 'Green'\n",
    "        second_band.value = 'SWIR1'   \n",
    "    elif nd_indices.value == 'Snow Index (NDSI)':\n",
    "        first_band.value = 'Green'\n",
    "        second_band.value = 'SWIR1'\n",
    "    elif nd_indices.value == 'Soil Index (NDSI)':\n",
    "        first_band.value = 'SWIR1'\n",
    "        second_band.value = 'NIR'        \n",
    "    elif nd_indices.value == 'Burn Ratio (NBR)':\n",
    "        first_band.value = 'NIR'\n",
    "        second_band.value = 'SWIR2'\n",
    "    elif nd_indices.value == 'Customized':\n",
    "        first_band.value = None\n",
    "        second_band.value = None\n",
    "        \n",
    "nd_indices.observe(nd_index_change, names='value')\n",
    "\n",
    "submit = widgets.Button(\n",
    "    description='Submit',\n",
    "    button_style='primary',\n",
    "    tooltip='Click me',\n",
    "    style=style\n",
    ")\n",
    "full_widget = widgets.VBox([\n",
    "    widgets.HBox([admin1_widget, admin2_widget, aoi_widget, download_widget]),\n",
    "    widgets.HBox([band_combo, year_widget, fmask_widget]),\n",
    "    widgets.HBox([nd_indices, first_band, second_band, nd_threshold, nd_color]),\n",
    "    submit\n",
    "])"
   ]
  },
  {
   "cell_type": "code",
   "execution_count": 20,
   "metadata": {},
   "outputs": [
    {
     "output_type": "display_data",
     "data": {
      "text/plain": "VBox(children=(HBox(children=(Text(value='Tennessee', description='State:', style=DescriptionStyle(description…",
      "application/vnd.jupyter.widget-view+json": {
       "version_major": 2,
       "version_minor": 0,
       "model_id": "72f555ace56445738fb23a8b19f74588"
      }
     },
     "metadata": {}
    }
   ],
   "source": [
    "full_widget"
   ]
  },
  {
   "cell_type": "code",
   "execution_count": 21,
   "metadata": {},
   "outputs": [],
   "source": [
    "def handle_interaction(**kwargs):\n",
    "    latlon = kwargs.get('coordinates')\n",
    "    if kwargs.get('type') == 'click' and not aoi_widget.value:\n",
    "        Map.default_style = {'cursor': 'wait'}\n",
    "        xy = ee.Geometry.Point(latlon[::-1])\n",
    "        selected_fc = fc.filterBounds(xy)\n",
    "        \n",
    "        with output_widget:\n",
    "            output_widget.clear_output()\n",
    "        \n",
    "            try:\n",
    "                feature = selected_fc.first()\n",
    "                admin2_id = feature.get('NAME').getInfo()\n",
    "                statefp = feature.get('STATEFP')\n",
    "                admin1_fc = ee.Feature(states.filter(ee.Filter.eq('STATEFP', statefp)).first())                \n",
    "                admin1_id = admin1_fc.get('NAME').getInfo()\n",
    "                admin1_widget.value = admin1_id\n",
    "                admin2_widget.value = admin2_id\n",
    "                Map.layers = Map.layers[:4]        \n",
    "                geom = selected_fc.geometry()\n",
    "                layer_name = admin1_id + '-' + admin2_id\n",
    "                Map.addLayer(ee.Image().paint(geom, 0, 2), {'palette': 'red'}, layer_name)  \n",
    "                print(layer_name)\n",
    "            except:\n",
    "                print('No feature could be found')\n",
    "                Map.layers = Map.layers[:4]        \n",
    "            \n",
    "        Map.default_style = {'cursor': 'pointer'}\n",
    "    else:\n",
    "        Map.draw_count = 0\n",
    "\n",
    "Map.on_interaction(handle_interaction)"
   ]
  },
  {
   "cell_type": "code",
   "execution_count": 23,
   "metadata": {},
   "outputs": [],
   "source": [
    "def submit_clicked(b):\n",
    "    \n",
    "    with output_widget:\n",
    "        output_widget.clear_output()\n",
    "        print('Computing...')\n",
    "        Map.default_style = {'cursor': 'wait'}\n",
    "\n",
    "        try:\n",
    "            admin1_id = admin1_widget.value\n",
    "            admin2_id = admin2_widget.value\n",
    "            band1 = first_band.value\n",
    "            band2 = second_band.value\n",
    "            selected_year = year_widget.value\n",
    "            threshold = nd_threshold.value\n",
    "            bands = band_combo.value.split('/')\n",
    "            apply_fmask = fmask_widget.value\n",
    "            palette = nd_color.value\n",
    "            use_aoi = aoi_widget.value\n",
    "            download = download_widget.value\n",
    "            \n",
    "            if use_aoi:\n",
    "                if Map.user_roi is not None:\n",
    "                    roi = Map.user_roi\n",
    "                    layer_name = 'User drawn AOI'\n",
    "                    geom = roi\n",
    "                else:\n",
    "                    output_widget.clear_output() \n",
    "                    print('No user AOI could be found.')\n",
    "                    return\n",
    "            else:\n",
    "            \n",
    "                statefp = ee.Feature(states.filter(ee.Filter.eq('NAME', admin1_id)).first()).get('STATEFP')\n",
    "                roi = fc.filter(ee.Filter.And(ee.Filter.eq('NAME', admin2_id), ee.Filter.eq('STATEFP', statefp)))\n",
    "                layer_name = admin1_id + '-' + admin2_id\n",
    "                geom = roi.geometry()\n",
    "\n",
    "\n",
    "            Map.layers = Map.layers[:4]        \n",
    "            Map.addLayer(ee.Image().paint(geom, 0, 2), {'palette': 'red'}, layer_name)  \n",
    "            \n",
    "            images = geemap.landsat_timeseries(roi=roi, start_year=1984, end_year=2020, start_date='01-01', end_date='12-31', apply_fmask=apply_fmask)\n",
    "            nd_images = images.map(lambda img: img.normalizedDifference([band1, band2]))\n",
    "            result_images = nd_images.map(lambda img: img.gt(threshold))\n",
    "\n",
    "            selected_image = ee.Image(images.toList(images.size()).get(selected_year - 1984))\n",
    "            selected_result_image = ee.Image(result_images.toList(result_images.size()).get(selected_year - 1984)).selfMask()\n",
    "            \n",
    "            vis_params = {\n",
    "                'bands': bands,\n",
    "                'min': 0,\n",
    "                'max': 3000\n",
    "            }\n",
    "            \n",
    "            Map.addLayer(selected_image, vis_params, 'Landsat ' + str(selected_year))\n",
    "            Map.addLayer(selected_result_image, {'palette': palette}, 'Result ' + str(selected_year))\n",
    "\n",
    "            \n",
    "            def cal_area(img):\n",
    "                pixel_area = img.multiply(ee.Image.pixelArea()).divide(1e4)\n",
    "                img_area = pixel_area.reduceRegion(**{\n",
    "                    'geometry': geom,\n",
    "                    'reducer': ee.Reducer.sum(),\n",
    "                    'scale': 1000,\n",
    "                    'maxPixels': 1e12,\n",
    "                    'bestEffort': True\n",
    "                })\n",
    "                return img.set({'area': img_area})\n",
    "            \n",
    "            areas = result_images.map(cal_area)\n",
    "            stats = areas.aggregate_array('area').getInfo()\n",
    "            x = list(range(1984, 2021))\n",
    "            y = [item.get('nd') for item in stats]\n",
    "            \n",
    "            fig = plt.figure(1)\n",
    "            fig.layout.height = '270px'\n",
    "            plt.clear()\n",
    "            plt.plot(x, y)\n",
    "            plt.title('Temporal trend (1984-2020)')\n",
    "            plt.xlabel('Year')\n",
    "            plt.ylabel('Area (ha)')\n",
    "            \n",
    "            output_widget.clear_output()            \n",
    "\n",
    "            plt.show()\n",
    "            \n",
    "            if download:\n",
    "                out_dir = os.path.join(os.path.expanduser('~'), 'Downloads')\n",
    "                out_name = 'chart_' + geemap.random_string() + '.csv'\n",
    "                out_csv = os.path.join(out_dir, out_name)\n",
    "                if not os.path.exists(out_dir):\n",
    "                    os.makedirs(out_dir)\n",
    "                with open(out_csv, 'w') as f:\n",
    "                    f.write('year, area (ha)\\n')\n",
    "                    for index, item in enumerate(x):\n",
    "                        line = '{},{:.2f}\\n'.format(item, y[index])\n",
    "                        f.write(line) \n",
    "                link = geemap.create_download_link(\n",
    "                    out_csv, title=\"Click here to download the chart data: \")\n",
    "                display(link)\n",
    "    \n",
    "        except Exception as e:\n",
    "            print(e)\n",
    "            print('An error occurred during computation.')        \n",
    "\n",
    "        Map.default_style = {'cursor': 'default'}\n",
    "\n",
    "submit.on_click(submit_clicked)"
   ]
  },
  {
   "cell_type": "code",
   "execution_count": 25,
   "metadata": {},
   "outputs": [
    {
     "output_type": "display_data",
     "data": {
      "text/plain": "Button(button_style='primary', description='Submit', style=ButtonStyle(), tooltip='Click me')",
      "application/vnd.jupyter.widget-view+json": {
       "version_major": 2,
       "version_minor": 0,
       "model_id": "7aa3266f86a14f8eadff8d3d3f52b830"
      }
     },
     "metadata": {}
    }
   ],
   "source": [
    "submit"
   ]
  },
  {
   "cell_type": "code",
   "execution_count": 6,
   "metadata": {},
   "outputs": [
    {
     "output_type": "error",
     "ename": "NameError",
     "evalue": "name 'ee' is not defined",
     "traceback": [
      "\u001b[1;31m---------------------------------------------------------------------------\u001b[0m",
      "\u001b[1;31mNameError\u001b[0m                                 Traceback (most recent call last)",
      "\u001b[1;32m<ipython-input-6-98e852e078ac>\u001b[0m in \u001b[0;36m<module>\u001b[1;34m\u001b[0m\n\u001b[0;32m      1\u001b[0m \u001b[1;31m#roi define roi\u001b[0m\u001b[1;33m\u001b[0m\u001b[1;33m\u001b[0m\u001b[1;33m\u001b[0m\u001b[0m\n\u001b[1;32m----> 2\u001b[1;33m \u001b[0mroi\u001b[0m \u001b[1;33m=\u001b[0m \u001b[0mee\u001b[0m\u001b[1;33m.\u001b[0m\u001b[0mFeatureCollection\u001b[0m\u001b[1;33m(\u001b[0m\u001b[1;34m'users/xtnncherish/workstation/hhy'\u001b[0m\u001b[1;33m)\u001b[0m\u001b[1;33m\u001b[0m\u001b[1;33m\u001b[0m\u001b[0m\n\u001b[0m\u001b[0;32m      3\u001b[0m \u001b[0mMap\u001b[0m\u001b[1;33m.\u001b[0m\u001b[0maddLayer\u001b[0m\u001b[1;33m(\u001b[0m\u001b[0mroi\u001b[0m\u001b[1;33m,\u001b[0m \u001b[1;33m{\u001b[0m\u001b[1;33m}\u001b[0m\u001b[1;33m,\u001b[0m \u001b[1;34m'HHY'\u001b[0m\u001b[1;33m)\u001b[0m\u001b[1;33m\u001b[0m\u001b[1;33m\u001b[0m\u001b[0m\n",
      "\u001b[1;31mNameError\u001b[0m: name 'ee' is not defined"
     ]
    }
   ],
   "source": [
    "#roi define roi\n",
    "roi = ee.FeatureCollection('users/xtnncherish/workstation/hhy')\n",
    "Map.addLayer(roi, {}, 'HHY')"
   ]
  },
  {
   "cell_type": "code",
   "execution_count": 8,
   "metadata": {},
   "outputs": [],
   "source": [
    "# ee.Algorithms.Landsat.simpleComposite\n",
    "collection = ee.ImageCollection('LANDSAT/LC08/C01/T1')\\\n",
    "                .filterDate('2020-06-01', '2020-10-15')\\\n",
    "                .filterBounds(roi)\\\n",
    "                .filter(ee.Filter.lt('CLOUD_COVER',20))"
   ]
  },
  {
   "cell_type": "code",
   "execution_count": 10,
   "metadata": {},
   "outputs": [],
   "source": [
    "composite_img = ee.Algorithms.Landsat.simpleComposite(collection).clip(roi)"
   ]
  },
  {
   "cell_type": "code",
   "execution_count": 12,
   "metadata": {},
   "outputs": [],
   "source": [
    "# visiulation\n",
    "Map.addLayer(composite_img, {'bands': ['B4', 'B3', 'B2'], max: 128}, 'hhy_img')"
   ]
  },
  {
   "cell_type": "code",
   "execution_count": 17,
   "metadata": {},
   "outputs": [
    {
     "output_type": "stream",
     "name": "stdout",
     "text": [
      "Generating URL ...\n",
      "An error occurred while downloading.\n",
      "Pixel grid dimensions (28133x16291) must be less than or equal to 10000.\n"
     ]
    }
   ],
   "source": [
    "img_file = 'F:\\wb\\lwm\\hhy_img.tif'\n",
    "geemap.ee_export_image(composite_img, filename = img_file, scale = 30, region = roi.geometry(), file_per_band = False)"
   ]
  },
  {
   "cell_type": "code",
   "execution_count": 8,
   "metadata": {},
   "outputs": [],
   "source": [
    "points = ee.FeatureCollection('users/xtnncherish/nj_points')\n",
    "Map.addLayer(points, {}, \"points\", False)"
   ]
  },
  {
   "cell_type": "code",
   "execution_count": 24,
   "metadata": {},
   "outputs": [],
   "source": [
    "lulc = ee.ImageCollection(\"MODIS/006/MCD12Q1\").filterDate('2018-01-01','2019-01-01').select('LC_Type1').mosaic()\n",
    "dem = ee.Image(\"NASA/NASADEM_HGT/001\").select('elevation')\n",
    "ndvi = ee.ImageCollection(\"MODIS/006/MOD13Q1\").filterDate('2019-06-01','2019-11-01').select('NDVI').median()\n",
    "lst = ee.ImageCollection(\"JAXA/GCOM-C/L3/LAND/LST/V1\") .filterDate('2019-06-01','2019-11-01').select('LST_AVE').median()"
   ]
  },
  {
   "cell_type": "code",
   "execution_count": 25,
   "metadata": {},
   "outputs": [],
   "source": [
    "Map.addLayer(lst,{},'LST')"
   ]
  },
  {
   "cell_type": "code",
   "execution_count": 26,
   "metadata": {},
   "outputs": [],
   "source": [
    "slope = ee.Terrain.slope(dem)"
   ]
  },
  {
   "cell_type": "code",
   "execution_count": 27,
   "metadata": {},
   "outputs": [
    {
     "output_type": "stream",
     "name": "stdout",
     "text": [
      "Generating URL ...\n",
      "Downloading data from https://earthengine.googleapis.com/v1alpha/projects/earthengine-legacy/tables/1dcdeb21744eaca32bf157f922611f9e-3ab31556faf11a31e06456c6d69e79fa:getFeatures\n",
      "Please wait ...\n",
      "Data downloaded to C:\\Users\\Admin\\Downloads\\points_lulc.shp\n",
      "Generating URL ...\n",
      "Downloading data from https://earthengine.googleapis.com/v1alpha/projects/earthengine-legacy/tables/c43c817cc25cfdb9903d81478b1c5919-8bc067d1810b9df79d848ac8db75b489:getFeatures\n",
      "Please wait ...\n",
      "Data downloaded to C:\\Users\\Admin\\Downloads\\points_slope.shp\n",
      "Generating URL ...\n",
      "Downloading data from https://earthengine.googleapis.com/v1alpha/projects/earthengine-legacy/tables/e43c27f29ac89b9940a50dcbf2cf2d8c-cabacb91a6fa378b13583aa7dbf48091:getFeatures\n",
      "Please wait ...\n",
      "Data downloaded to C:\\Users\\Admin\\Downloads\\points_ndvi.shp\n",
      "Generating URL ...\n",
      "Downloading data from https://earthengine.googleapis.com/v1alpha/projects/earthengine-legacy/tables/23d1f5d2569514f3f54154038cb8d2fb-1da0f9884e2da9cc7b0a6cd0ec930dbb:getFeatures\n",
      "Please wait ...\n",
      "Data downloaded to C:\\Users\\Admin\\Downloads\\points_lst.shp\n"
     ]
    }
   ],
   "source": [
    "data_list = [lulc, slope, ndvi, lst]\n",
    "data_name = ['lulc', 'slope', 'ndvi', 'lst']\n",
    "data_scale = [500, 30, 100, 500]\n",
    "for i in range(4):\n",
    "    work_dir = os.path.expanduser('~/Downloads')\n",
    "    out_shp = os.path.join(work_dir,'points_{}.shp'.format(data_name[i]))\n",
    "    geemap.extract_values_to_points(in_fc = points, image = data_list[i], scale =data_scale[i], out_fc = out_shp)\n",
    "\n",
    "# work_dir = os.path.expanduser('~/Downloads')\n",
    "# out_shp = os.path.join(work_dir, 'points_lulc.shp')\n",
    "# geemap.extract_values_to_points(in_fc=points, image=lulc, out_fc = out_shp)"
   ]
  },
  {
   "cell_type": "code",
   "execution_count": 11,
   "metadata": {},
   "outputs": [
    {
     "output_type": "stream",
     "name": "stdout",
     "text": [
      "Generating URL ...\n",
      "Downloading data from https://earthengine.googleapis.com/v1alpha/projects/earthengine-legacy/tables/e43c27f29ac89b9940a50dcbf2cf2d8c-04c8f857d35062f3e3872ef242db1638:getFeatures\n",
      "Please wait ...\n",
      "Data downloaded to C:\\Users\\Admin\\Downloads\\points_ndvi.shp\n"
     ]
    }
   ],
   "source": [
    "work_dir = os.path.expanduser('~/Downloads')\n",
    "out_shp = os.path.join(work_dir,'points_ndvi.shp')\n",
    "geemap.extract_values_to_points(in_fc = points, image = ndvi, scale = 100, out_fc = out_shp)"
   ]
  },
  {
   "cell_type": "code",
   "execution_count": 28,
   "metadata": {},
   "outputs": [],
   "source": [
    "points_lulc = gpd.read_file(r'C:\\Users\\Admin\\Downloads\\points_lulc.shp')\n",
    "points_slope = gpd.read_file(r'C:\\Users\\Admin\\Downloads\\points_slope.shp')\n",
    "points_ndvi = gpd.read_file(r'C:\\Users\\Admin\\Downloads\\points_ndvi.shp')\n",
    "points_lst = gpd.read_file(r'C:\\Users\\Admin\\Downloads\\points_lst.shp')"
   ]
  },
  {
   "cell_type": "code",
   "execution_count": 33,
   "metadata": {},
   "outputs": [
    {
     "output_type": "stream",
     "name": "stdout",
     "text": [
      "       OBJECTID      COR_Y  LST_AVE      COR_X                   geometry\n6850          1  41.340586  14732.0  79.960606  POINT (79.96129 41.34272)\n13952         2  41.340799  14732.0  79.984496  POINT (79.98375 41.34272)\n14684         3  41.377420  14629.0  80.055649  POINT (80.05561 41.37865)\n392           4  41.377614  14629.0  80.079553  POINT (80.07807 41.37865)\n12501         5  41.377803  14646.0  80.103458  POINT (80.10502 41.37865)\n"
     ]
    }
   ],
   "source": [
    "print(points_lst.head())\n",
    "# print(points_slope.head())\n",
    "# print(points_ndvi.head())"
   ]
  },
  {
   "cell_type": "code",
   "execution_count": 30,
   "metadata": {},
   "outputs": [],
   "source": [
    "points_lulc.sort_values('OBJECTID', inplace = True)\n",
    "points_slope.sort_values('OBJECTID', inplace = True)\n",
    "points_ndvi.sort_values('OBJECTID', inplace = True)"
   ]
  },
  {
   "cell_type": "code",
   "execution_count": 31,
   "metadata": {},
   "outputs": [],
   "source": [
    "points_lst.sort_values('OBJECTID', inplace = True)"
   ]
  },
  {
   "cell_type": "code",
   "execution_count": 37,
   "metadata": {},
   "outputs": [
    {
     "output_type": "execute_result",
     "data": {
      "text/plain": [
       "   OBJECTID      COR_Y      COR_X                   geometry\n",
       "0         1  41.340586  79.960606  POINT (79.96061 41.34059)\n",
       "1         2  41.340799  79.984496  POINT (79.98450 41.34080)\n",
       "2         3  41.377420  80.055649  POINT (80.05565 41.37742)\n",
       "3         4  41.377614  80.079553  POINT (80.07955 41.37761)\n",
       "4         5  41.377803  80.103458  POINT (80.10346 41.37780)"
      ],
      "text/html": "<div>\n<style scoped>\n    .dataframe tbody tr th:only-of-type {\n        vertical-align: middle;\n    }\n\n    .dataframe tbody tr th {\n        vertical-align: top;\n    }\n\n    .dataframe thead th {\n        text-align: right;\n    }\n</style>\n<table border=\"1\" class=\"dataframe\">\n  <thead>\n    <tr style=\"text-align: right;\">\n      <th></th>\n      <th>OBJECTID</th>\n      <th>COR_Y</th>\n      <th>COR_X</th>\n      <th>geometry</th>\n    </tr>\n  </thead>\n  <tbody>\n    <tr>\n      <th>0</th>\n      <td>1</td>\n      <td>41.340586</td>\n      <td>79.960606</td>\n      <td>POINT (79.96061 41.34059)</td>\n    </tr>\n    <tr>\n      <th>1</th>\n      <td>2</td>\n      <td>41.340799</td>\n      <td>79.984496</td>\n      <td>POINT (79.98450 41.34080)</td>\n    </tr>\n    <tr>\n      <th>2</th>\n      <td>3</td>\n      <td>41.377420</td>\n      <td>80.055649</td>\n      <td>POINT (80.05565 41.37742)</td>\n    </tr>\n    <tr>\n      <th>3</th>\n      <td>4</td>\n      <td>41.377614</td>\n      <td>80.079553</td>\n      <td>POINT (80.07955 41.37761)</td>\n    </tr>\n    <tr>\n      <th>4</th>\n      <td>5</td>\n      <td>41.377803</td>\n      <td>80.103458</td>\n      <td>POINT (80.10346 41.37780)</td>\n    </tr>\n  </tbody>\n</table>\n</div>"
     },
     "metadata": {},
     "execution_count": 37
    }
   ],
   "source": [
    "nj_points = gpd.read_file(r'F:\\python_code\\gdal_gee\\GEE_LEARN\\nj_points.shp')\n",
    "nj_points.head()"
   ]
  },
  {
   "cell_type": "code",
   "execution_count": 38,
   "metadata": {},
   "outputs": [],
   "source": [
    "nj_points['LULC'] = points_lulc['LC_Type1'].values\n",
    "nj_points['SLOPE'] = points_slope['slope'].values\n",
    "nj_points['NDVI'] = points_ndvi['NDVI'].values\n",
    "nj_points['LST'] = points_lst['LST_AVE'].values"
   ]
  },
  {
   "cell_type": "code",
   "execution_count": null,
   "metadata": {},
   "outputs": [],
   "source": []
  },
  {
   "cell_type": "code",
   "execution_count": 39,
   "metadata": {},
   "outputs": [
    {
     "output_type": "execute_result",
     "data": {
      "text/plain": [
       "   OBJECTID      COR_Y      COR_X                   geometry  LULC     SLOPE  \\\n",
       "0         1  41.340586  79.960606  POINT (79.96061 41.34059)    10  1.544394   \n",
       "1         2  41.340799  79.984496  POINT (79.98450 41.34080)    15  3.086556   \n",
       "2         3  41.377420  80.055649  POINT (80.05565 41.37742)    10  2.780288   \n",
       "3         4  41.377614  80.079553  POINT (80.07955 41.37761)    10  0.927410   \n",
       "4         5  41.377803  80.103458  POINT (80.10346 41.37780)    10  1.544959   \n",
       "\n",
       "     NDVI      LST  \n",
       "0  3178.0  14732.0  \n",
       "1   699.0  14732.0  \n",
       "2  2347.0  14629.0  \n",
       "3  5296.0  14629.0  \n",
       "4  2647.0  14646.0  "
      ],
      "text/html": "<div>\n<style scoped>\n    .dataframe tbody tr th:only-of-type {\n        vertical-align: middle;\n    }\n\n    .dataframe tbody tr th {\n        vertical-align: top;\n    }\n\n    .dataframe thead th {\n        text-align: right;\n    }\n</style>\n<table border=\"1\" class=\"dataframe\">\n  <thead>\n    <tr style=\"text-align: right;\">\n      <th></th>\n      <th>OBJECTID</th>\n      <th>COR_Y</th>\n      <th>COR_X</th>\n      <th>geometry</th>\n      <th>LULC</th>\n      <th>SLOPE</th>\n      <th>NDVI</th>\n      <th>LST</th>\n    </tr>\n  </thead>\n  <tbody>\n    <tr>\n      <th>0</th>\n      <td>1</td>\n      <td>41.340586</td>\n      <td>79.960606</td>\n      <td>POINT (79.96061 41.34059)</td>\n      <td>10</td>\n      <td>1.544394</td>\n      <td>3178.0</td>\n      <td>14732.0</td>\n    </tr>\n    <tr>\n      <th>1</th>\n      <td>2</td>\n      <td>41.340799</td>\n      <td>79.984496</td>\n      <td>POINT (79.98450 41.34080)</td>\n      <td>15</td>\n      <td>3.086556</td>\n      <td>699.0</td>\n      <td>14732.0</td>\n    </tr>\n    <tr>\n      <th>2</th>\n      <td>3</td>\n      <td>41.377420</td>\n      <td>80.055649</td>\n      <td>POINT (80.05565 41.37742)</td>\n      <td>10</td>\n      <td>2.780288</td>\n      <td>2347.0</td>\n      <td>14629.0</td>\n    </tr>\n    <tr>\n      <th>3</th>\n      <td>4</td>\n      <td>41.377614</td>\n      <td>80.079553</td>\n      <td>POINT (80.07955 41.37761)</td>\n      <td>10</td>\n      <td>0.927410</td>\n      <td>5296.0</td>\n      <td>14629.0</td>\n    </tr>\n    <tr>\n      <th>4</th>\n      <td>5</td>\n      <td>41.377803</td>\n      <td>80.103458</td>\n      <td>POINT (80.10346 41.37780)</td>\n      <td>10</td>\n      <td>1.544959</td>\n      <td>2647.0</td>\n      <td>14646.0</td>\n    </tr>\n  </tbody>\n</table>\n</div>"
     },
     "metadata": {},
     "execution_count": 39
    }
   ],
   "source": [
    "nj_points.head()"
   ]
  },
  {
   "cell_type": "code",
   "execution_count": 21,
   "metadata": {},
   "outputs": [
    {
     "output_type": "execute_result",
     "data": {
      "text/plain": [
       "<Geographic 2D CRS: EPSG:4610>\n",
       "Name: Xian 1980\n",
       "Axis Info [ellipsoidal]:\n",
       "- Lat[north]: Geodetic latitude (degree)\n",
       "- Lon[east]: Geodetic longitude (degree)\n",
       "Area of Use:\n",
       "- name: China - onshore\n",
       "- bounds: (73.62, 18.11, 134.77, 53.56)\n",
       "Datum: Xian 1980\n",
       "- Ellipsoid: IAG 1975\n",
       "- Prime Meridian: Greenwich"
      ]
     },
     "metadata": {},
     "execution_count": 21
    }
   ],
   "source": [
    "nj_points.crs"
   ]
  },
  {
   "cell_type": "code",
   "execution_count": 22,
   "metadata": {},
   "outputs": [
    {
     "output_type": "execute_result",
     "data": {
      "text/plain": [
       "'f:\\\\python_code\\\\gdal_gee\\\\GEE_LEARN'"
      ]
     },
     "metadata": {},
     "execution_count": 22
    }
   ],
   "source": [
    "import os\n",
    "os.getcwd()"
   ]
  },
  {
   "cell_type": "code",
   "execution_count": 40,
   "metadata": {},
   "outputs": [],
   "source": [
    "\n",
    "nj_points.to_file(driver = 'ESRI Shapefile', filename = 'nj_points_value0.shp')\n",
    "\n",
    "# gdf.to_file(driver = 'ESRI Shapefile', filename = input_path)"
   ]
  },
  {
   "cell_type": "code",
   "execution_count": null,
   "metadata": {},
   "outputs": [],
   "source": []
  }
 ]
}