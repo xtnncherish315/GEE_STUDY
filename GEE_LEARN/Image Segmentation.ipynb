{
 "metadata": {
  "language_info": {
   "codemirror_mode": {
    "name": "ipython",
    "version": 3
   },
   "file_extension": ".py",
   "mimetype": "text/x-python",
   "name": "python",
   "nbconvert_exporter": "python",
   "pygments_lexer": "ipython3",
   "version": "3.7.9-final"
  },
  "orig_nbformat": 2,
  "kernelspec": {
   "name": "geo",
   "display_name": "geo",
   "language": "python"
  }
 },
 "nbformat": 4,
 "nbformat_minor": 2,
 "cells": [
  {
   "cell_type": "code",
   "execution_count": 1,
   "metadata": {},
   "outputs": [],
   "source": [
    "# 昨天利用GEE code editor 尝鲜了图像分割相关算法，今天将昨天的内容，在python环境下再试一遍\n",
    "# 会发现python的代码会更加简单一些\n",
    "# 在这里给各位小伙伴推荐一个包，Geemap，田纳西大学吴秋生教授针对GEE开发的python扩展包，功能实用"
   ]
  },
  {
   "cell_type": "code",
   "execution_count": 2,
   "metadata": {},
   "outputs": [],
   "source": [
    "import geemap"
   ]
  },
  {
   "cell_type": "code",
   "execution_count": 3,
   "metadata": {},
   "outputs": [],
   "source": [
    "import ee"
   ]
  },
  {
   "cell_type": "code",
   "execution_count": 4,
   "metadata": {},
   "outputs": [],
   "source": [
    "geemap.set_proxy(port = 1081) #设置代理，不然连不上GEE的，代理的方式也有别的\n",
    "# # 设置全局代理\n",
    "# socks.set_default_proxy(socks.SOCKS5, \"127.0.0.1\", 7890)\n",
    "# socket.socket = socks.socksocket  这样也是可以的，之前需要import socks,socket\n",
    "# 端口结合各位自己的科学上网端口来修改"
   ]
  },
  {
   "cell_type": "code",
   "execution_count": null,
   "metadata": {},
   "outputs": [],
   "source": [
    "# geemap.update_package() 更新geemap"
   ]
  },
  {
   "cell_type": "code",
   "execution_count": 5,
   "metadata": {},
   "outputs": [
    {
     "output_type": "display_data",
     "data": {
      "text/plain": "<IPython.core.display.HTML object>",
      "text/html": "<p>To authorize access needed by Earth Engine, open the following\n        URL in a web browser and follow the instructions:</p>\n        <p><a href=https://accounts.google.com/o/oauth2/auth?client_id=517222506229-vsmmajv00ul0bs7p89v5m89qs8eb9359.apps.googleusercontent.com&scope=https%3A%2F%2Fwww.googleapis.com%2Fauth%2Fearthengine+https%3A%2F%2Fwww.googleapis.com%2Fauth%2Fdevstorage.full_control&redirect_uri=urn%3Aietf%3Awg%3Aoauth%3A2.0%3Aoob&response_type=code&code_challenge=-ClyRzDPOQI_5aj3X8KNeZXEX-f0OJXpxkFP9LeGE08&code_challenge_method=S256>https://accounts.google.com/o/oauth2/auth?client_id=517222506229-vsmmajv00ul0bs7p89v5m89qs8eb9359.apps.googleusercontent.com&scope=https%3A%2F%2Fwww.googleapis.com%2Fauth%2Fearthengine+https%3A%2F%2Fwww.googleapis.com%2Fauth%2Fdevstorage.full_control&redirect_uri=urn%3Aietf%3Awg%3Aoauth%3A2.0%3Aoob&response_type=code&code_challenge=-ClyRzDPOQI_5aj3X8KNeZXEX-f0OJXpxkFP9LeGE08&code_challenge_method=S256</a></p>\n        <p>The authorization workflow will generate a code, which you\n        should paste in the box below</p>\n        "
     },
     "metadata": {}
    },
    {
     "output_type": "stream",
     "name": "stdout",
     "text": [
      "\nSuccessfully saved authorization token.\n"
     ]
    }
   ],
   "source": [
    "ee.Authenticate() # gee 授权，不然是无法实用GEE里的相关函数的"
   ]
  },
  {
   "cell_type": "code",
   "execution_count": 6,
   "metadata": {},
   "outputs": [
    {
     "output_type": "display_data",
     "data": {
      "text/plain": "Map(center=[40, -100], controls=(WidgetControl(options=['position'], widget=HBox(children=(ToggleButton(value=…",
      "application/vnd.jupyter.widget-view+json": {
       "version_major": 2,
       "version_minor": 0,
       "model_id": "f7c8516e28f24042986e16b3074d1cfe"
      }
     },
     "metadata": {}
    }
   ],
   "source": [
    "Map = geemap.Map()\n",
    "Map"
   ]
  },
  {
   "cell_type": "code",
   "execution_count": 7,
   "metadata": {},
   "outputs": [],
   "source": [
    "img = ee.Image('users/xtnncherish/workstation/test1')  # 我事先下载好的分辨率比较高的谷歌影像   后续我也会教大家怎么下载高清谷歌影像，不利用国内的类似于Bigmap，91位图\n",
    "Map.addLayer(img)\n",
    "Map.center_object(img,16)"
   ]
  },
  {
   "cell_type": "code",
   "execution_count": null,
   "metadata": {},
   "outputs": [],
   "source": [
    "# 就直接把之前的代码换成python的写法  \n",
    "# Segmentation \n",
    "# GMeans\n",
    "GMeans = ee.Algorithms.Image.Segmentation.GMeans(image = img)"
   ]
  },
  {
   "cell_type": "code",
   "execution_count": null,
   "metadata": {},
   "outputs": [],
   "source": [
    "Map.addLayer(GMeans.randomVisualizer(),{},'GMeans',False)"
   ]
  },
  {
   "cell_type": "code",
   "execution_count": null,
   "metadata": {},
   "outputs": [],
   "source": [
    "# 接下来调整相关参数，看一下GMeans图像分割效果\n",
    "# 首先就是pValue\n",
    "pList = [10,50,100,150,200,250]\n",
    "for p in pList:\n",
    "    GMeans = ee.Algorithms.Image.Segmentation.GMeans(image = img, pValue = p)\n",
    "    Map.addLayer(GMeans.randomVisualizer(),{},'GMeans_{}'.format(p))\n",
    "    "
   ]
  },
  {
   "cell_type": "code",
   "execution_count": 8,
   "metadata": {},
   "outputs": [],
   "source": [
    "KMeans = ee.Algorithms.Image.Segmentation.KMeans(image = img)\n",
    "Map.addLayer(KMeans.randomVisualizer(),{},'KMeans')"
   ]
  },
  {
   "cell_type": "code",
   "execution_count": 9,
   "metadata": {},
   "outputs": [],
   "source": [
    "nList = [2,4,8,10,12,16]\n",
    "for n in nList:\n",
    "    KMeans = ee.Algorithms.Image.Segmentation.KMeans(image = img, numClusters = n)\n",
    "    Map.addLayer(KMeans.randomVisualizer(),{},'KMeans_{}'.format(n))"
   ]
  },
  {
   "cell_type": "code",
   "execution_count": null,
   "metadata": {},
   "outputs": [],
   "source": [
    "roi = Map.user_roi\n",
    "# print(roi)"
   ]
  }
 ]
}